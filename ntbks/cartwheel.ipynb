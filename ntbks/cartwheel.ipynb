{
 "cells": [
  {
   "cell_type": "code",
   "execution_count": 1,
   "metadata": {},
   "outputs": [],
   "source": [
    "import os, sys\n",
    "import pandas as pd \n",
    "import numpy as np \n",
    "import seaborn as sns\n",
    "from pprint import pprint\n"
   ]
  },
  {
   "cell_type": "code",
   "execution_count": 2,
   "metadata": {},
   "outputs": [
    {
     "name": "stdout",
     "output_type": "stream",
     "text": [
      "---init---\n",
      "hyp_vali_md.constraints:import start...\n",
      "hyp_vali_md.constraints: ---import end---\n",
      "hyp_testi_md.hp_estimators: import start...\n",
      "hyp_testi_md.hp_estimators: ---import end---\n",
      "hyp_testi_md.hypothesis_testing:import start...\n",
      "hyp_testi_md.hypothesis_testing: ---import end---\n",
      "hyp_vali_md.hypothesis_validator:import start...\n",
      "hyp_vali_md.hypothesis_validator: ---import end---\n",
      "mdl_esti_md.hp_estimator_regression: import start...\n",
      "mdl_esti_md.hp_estimator_regression: ---import ended---\n",
      "ci_estimators: import start...\n",
      "ci_estimators: import ended...\n",
      "conf_int_md.confidence_interval: import start...\n",
      "conf_int_md.confidence_interval: ---import end---\n",
      "mdl_esti_md.model_estimator: import start...\n",
      "mdl_esti_md.model_estimator: ---import end---\n"
     ]
    }
   ],
   "source": [
    "sys.path.append(os.pardir)\n",
    "from my_stats.mdl_esti_md.model_estimator import (\n",
    "    ME_Regression\n",
    ") "
   ]
  },
  {
   "cell_type": "code",
   "execution_count": 3,
   "metadata": {},
   "outputs": [],
   "source": [
    "df = pd.read_csv(\"../data/Cartwheeldata.csv\")\n",
    "df = df.dropna()"
   ]
  },
  {
   "cell_type": "code",
   "execution_count": 4,
   "metadata": {},
   "outputs": [
    {
     "data": {
      "text/plain": [
       "Index(['ID', 'Age', 'Gender', 'GenderGroup', 'Glasses', 'GlassesGroup',\n",
       "       'Height', 'Wingspan', 'CWDistance', 'Complete', 'CompleteGroup',\n",
       "       'Score'],\n",
       "      dtype='object')"
      ]
     },
     "execution_count": 4,
     "metadata": {},
     "output_type": "execute_result"
    }
   ],
   "source": [
    "df.columns"
   ]
  },
  {
   "cell_type": "code",
   "execution_count": 5,
   "metadata": {},
   "outputs": [
    {
     "name": "stdout",
     "output_type": "stream",
     "text": [
      "62.0:2\n",
      "66.0:2\n",
      "64.0:1\n",
      "73.0:2\n",
      "75.0:2\n",
      "65.0:3\n",
      "74.0:1\n",
      "63.0:1\n",
      "69.5:1\n",
      "62.75:1\n",
      "61.5:2\n",
      "71.0:2\n",
      "70.0:2\n",
      "68.0:1\n",
      "69.0:2\n"
     ]
    }
   ],
   "source": [
    "for elt in df.Height.unique():\n",
    "    print(elt, end=\":\")\n",
    "    print(len(df[df.Height==elt]))"
   ]
  },
  {
   "cell_type": "code",
   "execution_count": 4,
   "metadata": {},
   "outputs": [
    {
     "name": "stdout",
     "output_type": "stream",
     "text": [
      "coeff: [-13.73926525   1.18254642]\n",
      "-->coeff_estim_std: [5.14131507 0.07584271]\n",
      "-->residu_std: 1.6464158584771627\n",
      "-->tests:\n",
      "  -> residuals_normality:HypothesisValidationData(testPassed=True, obj=None)\n",
      "  -> residu_mean_null:HypothesisValidationData(testPassed=True, obj=None)\n",
      "  -> coeff_non_zero:HypothesisValidationData(testPassed=True, obj=[True, True])\n",
      "  -> significance:{'R_carre': 0.9101504788317475, 'R_carre_adj': 0.9062439779113887, 'MSE': 2.8285410563948794, 'DFE': 23, 'MSR': 659.003555702888, 'DFR': 1, 'SSE': 65.05644429708222, 'SSR': 659.003555702888}\n",
      "  -> fisher_test:{'test_passed': True, 'F_stat': 232.9835567396083, 'p_value': 1.5865087021893487e-13}\n",
      "  -> metrics:{'log-likelihood': -47.43848128674878, 'AIC': 98.87696257349756, 'BIC': 101.31471422323398, 'MSE': 2.8285410563948794, 'MAE': 1.3018998408484845, 'RMSE': 1.6818267022481477, 'skew': -0.3314815125093097, 'kurtosis': 0.1526372003249139}\n"
     ]
    }
   ],
   "source": [
    "data = ME_Regression(x = df.Height, y = df.Wingspan, degre=1)\n",
    "coeffs,coeff_std, residu_std,Testresults = data\n",
    "print(f\"coeff: {coeffs}\\n-->coeff_estim_std: {coeff_std}\\n-->residu_std: {residu_std}\\n-->tests:\")\n",
    "for elt,val in Testresults.items():\n",
    "    print(f\"  -> {elt}:{val}\")"
   ]
  },
  {
   "cell_type": "code",
   "execution_count": 7,
   "metadata": {},
   "outputs": [
    {
     "data": {
      "text/plain": [
       "Index(['ID', 'Age', 'Gender', 'GenderGroup', 'Glasses', 'GlassesGroup',\n",
       "       'Height', 'Wingspan', 'CWDistance', 'Complete', 'CompleteGroup',\n",
       "       'Score'],\n",
       "      dtype='object')"
      ]
     },
     "execution_count": 7,
     "metadata": {},
     "output_type": "execute_result"
    }
   ],
   "source": [
    "df.columns"
   ]
  },
  {
   "cell_type": "markdown",
   "metadata": {},
   "source": [
    "https://medium.com/swlh/interpreting-linear-regression-through-statsmodels-summary-4796d359035a"
   ]
  },
  {
   "cell_type": "code",
   "execution_count": 8,
   "metadata": {},
   "outputs": [
    {
     "name": "stdout",
     "output_type": "stream",
     "text": [
      "                            OLS Regression Results                            \n",
      "==============================================================================\n",
      "Dep. Variable:               Wingspan   R-squared:                       0.910\n",
      "Model:                            OLS   Adj. R-squared:                  0.906\n",
      "Method:                 Least Squares   F-statistic:                     233.0\n",
      "Date:                Sun, 01 Jan 2023   Prob (F-statistic):           1.59e-13\n",
      "Time:                        01:26:17   Log-Likelihood:                -47.428\n",
      "No. Observations:                  25   AIC:                             98.86\n",
      "Df Residuals:                      23   BIC:                             101.3\n",
      "Df Model:                           1                                         \n",
      "Covariance Type:            nonrobust                                         \n",
      "==============================================================================\n",
      "                 coef    std err          t      P>|t|      [0.025      0.975]\n",
      "------------------------------------------------------------------------------\n",
      "Intercept    -13.7393      5.252     -2.616      0.015     -24.604      -2.875\n",
      "Height         1.1825      0.077     15.264      0.000       1.022       1.343\n",
      "==============================================================================\n",
      "Omnibus:                        0.733   Durbin-Watson:                   2.238\n",
      "Prob(Omnibus):                  0.693   Jarque-Bera (JB):                0.416\n",
      "Skew:                          -0.311   Prob(JB):                        0.812\n",
      "Kurtosis:                       2.893   Cond. No.                     1.06e+03\n",
      "==============================================================================\n",
      "\n",
      "Notes:\n",
      "[1] Standard Errors assume that the covariance matrix of the errors is correctly specified.\n",
      "[2] The condition number is large, 1.06e+03. This might indicate that there are\n",
      "strong multicollinearity or other numerical problems.\n"
     ]
    }
   ],
   "source": [
    "import statsmodels.api as sm\n",
    "model = sm.OLS.from_formula(\"Wingspan ~ Height\", data=df) #y=CWDistance,x=Height\n",
    "res = model.fit()\n",
    "print(res.summary())"
   ]
  },
  {
   "cell_type": "markdown",
   "metadata": {},
   "source": [
    "covariances found"
   ]
  },
  {
   "cell_type": "code",
   "execution_count": 10,
   "metadata": {},
   "outputs": [
    {
     "data": {
      "text/html": [
       "<div>\n",
       "<style scoped>\n",
       "    .dataframe tbody tr th:only-of-type {\n",
       "        vertical-align: middle;\n",
       "    }\n",
       "\n",
       "    .dataframe tbody tr th {\n",
       "        vertical-align: top;\n",
       "    }\n",
       "\n",
       "    .dataframe thead th {\n",
       "        text-align: right;\n",
       "    }\n",
       "</style>\n",
       "<table border=\"1\" class=\"dataframe\">\n",
       "  <thead>\n",
       "    <tr style=\"text-align: right;\">\n",
       "      <th></th>\n",
       "      <th>Intercept</th>\n",
       "      <th>Height</th>\n",
       "    </tr>\n",
       "  </thead>\n",
       "  <tbody>\n",
       "    <tr>\n",
       "      <th>Intercept</th>\n",
       "      <td>9.751454</td>\n",
       "      <td>-0.143554</td>\n",
       "    </tr>\n",
       "    <tr>\n",
       "      <th>Height</th>\n",
       "      <td>-0.143554</td>\n",
       "      <td>0.002122</td>\n",
       "    </tr>\n",
       "  </tbody>\n",
       "</table>\n",
       "</div>"
      ],
      "text/plain": [
       "           Intercept    Height\n",
       "Intercept   9.751454 -0.143554\n",
       "Height     -0.143554  0.002122"
      ]
     },
     "execution_count": 10,
     "metadata": {},
     "output_type": "execute_result"
    }
   ],
   "source": [
    "#covariances found\n",
    "covs = res.normalized_cov_params \n",
    "covs"
   ]
  },
  {
   "cell_type": "code",
   "execution_count": 11,
   "metadata": {},
   "outputs": [
    {
     "name": "stderr",
     "output_type": "stream",
     "text": [
      "/tmp/ipykernel_15106/1861906633.py:2: FutureWarning: The default value of numeric_only in DataFrame.corr is deprecated. In a future version, it will default to False. Select only valid columns or specify the value of numeric_only to silence this warning.\n",
      "  (df.corr().abs()>0.8).replace({False:0})\n"
     ]
    },
    {
     "data": {
      "text/html": [
       "<div>\n",
       "<style scoped>\n",
       "    .dataframe tbody tr th:only-of-type {\n",
       "        vertical-align: middle;\n",
       "    }\n",
       "\n",
       "    .dataframe tbody tr th {\n",
       "        vertical-align: top;\n",
       "    }\n",
       "\n",
       "    .dataframe thead th {\n",
       "        text-align: right;\n",
       "    }\n",
       "</style>\n",
       "<table border=\"1\" class=\"dataframe\">\n",
       "  <thead>\n",
       "    <tr style=\"text-align: right;\">\n",
       "      <th></th>\n",
       "      <th>ID</th>\n",
       "      <th>Age</th>\n",
       "      <th>GenderGroup</th>\n",
       "      <th>GlassesGroup</th>\n",
       "      <th>Height</th>\n",
       "      <th>Wingspan</th>\n",
       "      <th>CWDistance</th>\n",
       "      <th>CompleteGroup</th>\n",
       "      <th>Score</th>\n",
       "    </tr>\n",
       "  </thead>\n",
       "  <tbody>\n",
       "    <tr>\n",
       "      <th>ID</th>\n",
       "      <td>True</td>\n",
       "      <td>0</td>\n",
       "      <td>0</td>\n",
       "      <td>0</td>\n",
       "      <td>0</td>\n",
       "      <td>0</td>\n",
       "      <td>0</td>\n",
       "      <td>0</td>\n",
       "      <td>0</td>\n",
       "    </tr>\n",
       "    <tr>\n",
       "      <th>Age</th>\n",
       "      <td>0</td>\n",
       "      <td>True</td>\n",
       "      <td>0</td>\n",
       "      <td>0</td>\n",
       "      <td>0</td>\n",
       "      <td>0</td>\n",
       "      <td>0</td>\n",
       "      <td>0</td>\n",
       "      <td>0</td>\n",
       "    </tr>\n",
       "    <tr>\n",
       "      <th>GenderGroup</th>\n",
       "      <td>0</td>\n",
       "      <td>0</td>\n",
       "      <td>True</td>\n",
       "      <td>0</td>\n",
       "      <td>True</td>\n",
       "      <td>True</td>\n",
       "      <td>0</td>\n",
       "      <td>0</td>\n",
       "      <td>0</td>\n",
       "    </tr>\n",
       "    <tr>\n",
       "      <th>GlassesGroup</th>\n",
       "      <td>0</td>\n",
       "      <td>0</td>\n",
       "      <td>0</td>\n",
       "      <td>True</td>\n",
       "      <td>0</td>\n",
       "      <td>0</td>\n",
       "      <td>0</td>\n",
       "      <td>0</td>\n",
       "      <td>0</td>\n",
       "    </tr>\n",
       "    <tr>\n",
       "      <th>Height</th>\n",
       "      <td>0</td>\n",
       "      <td>0</td>\n",
       "      <td>True</td>\n",
       "      <td>0</td>\n",
       "      <td>True</td>\n",
       "      <td>True</td>\n",
       "      <td>0</td>\n",
       "      <td>0</td>\n",
       "      <td>0</td>\n",
       "    </tr>\n",
       "    <tr>\n",
       "      <th>Wingspan</th>\n",
       "      <td>0</td>\n",
       "      <td>0</td>\n",
       "      <td>True</td>\n",
       "      <td>0</td>\n",
       "      <td>True</td>\n",
       "      <td>True</td>\n",
       "      <td>0</td>\n",
       "      <td>0</td>\n",
       "      <td>0</td>\n",
       "    </tr>\n",
       "    <tr>\n",
       "      <th>CWDistance</th>\n",
       "      <td>0</td>\n",
       "      <td>0</td>\n",
       "      <td>0</td>\n",
       "      <td>0</td>\n",
       "      <td>0</td>\n",
       "      <td>0</td>\n",
       "      <td>True</td>\n",
       "      <td>0</td>\n",
       "      <td>0</td>\n",
       "    </tr>\n",
       "    <tr>\n",
       "      <th>CompleteGroup</th>\n",
       "      <td>0</td>\n",
       "      <td>0</td>\n",
       "      <td>0</td>\n",
       "      <td>0</td>\n",
       "      <td>0</td>\n",
       "      <td>0</td>\n",
       "      <td>0</td>\n",
       "      <td>True</td>\n",
       "      <td>0</td>\n",
       "    </tr>\n",
       "    <tr>\n",
       "      <th>Score</th>\n",
       "      <td>0</td>\n",
       "      <td>0</td>\n",
       "      <td>0</td>\n",
       "      <td>0</td>\n",
       "      <td>0</td>\n",
       "      <td>0</td>\n",
       "      <td>0</td>\n",
       "      <td>0</td>\n",
       "      <td>True</td>\n",
       "    </tr>\n",
       "  </tbody>\n",
       "</table>\n",
       "</div>"
      ],
      "text/plain": [
       "                 ID   Age GenderGroup GlassesGroup Height Wingspan CWDistance  \\\n",
       "ID             True     0           0            0      0        0          0   \n",
       "Age               0  True           0            0      0        0          0   \n",
       "GenderGroup       0     0        True            0   True     True          0   \n",
       "GlassesGroup      0     0           0         True      0        0          0   \n",
       "Height            0     0        True            0   True     True          0   \n",
       "Wingspan          0     0        True            0   True     True          0   \n",
       "CWDistance        0     0           0            0      0        0       True   \n",
       "CompleteGroup     0     0           0            0      0        0          0   \n",
       "Score             0     0           0            0      0        0          0   \n",
       "\n",
       "              CompleteGroup Score  \n",
       "ID                        0     0  \n",
       "Age                       0     0  \n",
       "GenderGroup               0     0  \n",
       "GlassesGroup              0     0  \n",
       "Height                    0     0  \n",
       "Wingspan                  0     0  \n",
       "CWDistance                0     0  \n",
       "CompleteGroup          True     0  \n",
       "Score                     0  True  "
      ]
     },
     "execution_count": 11,
     "metadata": {},
     "output_type": "execute_result"
    }
   ],
   "source": [
    "#correlation between height, wingspan, agegroup\n",
    "(df.corr().abs()>0.8).replace({False:0}) "
   ]
  },
  {
   "cell_type": "markdown",
   "metadata": {},
   "source": [
    "correlation between height, wingspan, agegroup"
   ]
  },
  {
   "cell_type": "code",
   "execution_count": 207,
   "metadata": {},
   "outputs": [
    {
     "name": "stdout",
     "output_type": "stream",
     "text": [
      "Help on method cov_params in module statsmodels.base.model:\n",
      "\n",
      "cov_params(r_matrix=None, column=None, scale=None, cov_p=None, other=None) method of statsmodels.regression.linear_model.RegressionResultsWrapper instance\n",
      "    cov_params(self, r_matrix=None, column=None, scale=None, cov_p=None, other=None)\n",
      "    \n",
      "    Compute the variance/covariance matrix.\n",
      "    \n",
      "    The variance/covariance matrix can be of a linear contrast of the\n",
      "    estimated parameters or all params multiplied by scale which will\n",
      "    usually be an estimate of sigma^2.  Scale is assumed to be a scalar.\n",
      "    \n",
      "    Parameters\n",
      "    ----------\n",
      "    r_matrix : array_like\n",
      "        Can be 1d, or 2d.  Can be used alone or with other.\n",
      "    column : array_like, optional\n",
      "        Must be used on its own.  Can be 0d or 1d see below.\n",
      "    scale : float, optional\n",
      "        Can be specified or not.  Default is None, which means that\n",
      "        the scale argument is taken from the model.\n",
      "    cov_p : ndarray, optional\n",
      "        The covariance of the parameters. If not provided, this value is\n",
      "        read from `self.normalized_cov_params` or\n",
      "        `self.cov_params_default`.\n",
      "    other : array_like, optional\n",
      "        Can be used when r_matrix is specified.\n",
      "    \n",
      "    Returns\n",
      "    -------\n",
      "    ndarray\n",
      "        The covariance matrix of the parameter estimates or of linear\n",
      "        combination of parameter estimates. See Notes.\n",
      "    \n",
      "    Notes\n",
      "    -----\n",
      "    (The below are assumed to be in matrix notation.)\n",
      "    \n",
      "    If no argument is specified returns the covariance matrix of a model\n",
      "    ``(scale)*(X.T X)^(-1)``\n",
      "    \n",
      "    If contrast is specified it pre and post-multiplies as follows\n",
      "    ``(scale) * r_matrix (X.T X)^(-1) r_matrix.T``\n",
      "    \n",
      "    If contrast and other are specified returns\n",
      "    ``(scale) * r_matrix (X.T X)^(-1) other.T``\n",
      "    \n",
      "    If column is specified returns\n",
      "    ``(scale) * (X.T X)^(-1)[column,column]`` if column is 0d\n",
      "    \n",
      "    OR\n",
      "    \n",
      "    ``(scale) * (X.T X)^(-1)[column][:,column]`` if column is 1d\n",
      "\n"
     ]
    }
   ],
   "source": [
    "help(res.cov_params) #can't help"
   ]
  },
  {
   "cell_type": "markdown",
   "metadata": {},
   "source": []
  },
  {
   "cell_type": "code",
   "execution_count": 36,
   "metadata": {},
   "outputs": [],
   "source": [
    "# get all param of res\n",
    "for elt in dir(res):\n",
    "    if elt.startswith('_'):continue\n",
    "    T1 = type(np.array([2]))\n",
    "    T2 = type(pd.DataFrame())\n",
    "    T3 = type(\"e\")\n",
    "    if isinstance(elt, ( T1,T2 ,T3 )): continue\n",
    "    print(3)\n",
    "    L = [ _ for _ in dir(getattr(res,elt)) if not _.startswith('_')]\n",
    "    print(elt,':',L,end=\"\\n\\n\")\n",
    "    "
   ]
  },
  {
   "cell_type": "code",
   "execution_count": 135,
   "metadata": {},
   "outputs": [
    {
     "data": {
      "text/html": [
       "<div>\n",
       "<style scoped>\n",
       "    .dataframe tbody tr th:only-of-type {\n",
       "        vertical-align: middle;\n",
       "    }\n",
       "\n",
       "    .dataframe tbody tr th {\n",
       "        vertical-align: top;\n",
       "    }\n",
       "\n",
       "    .dataframe thead th {\n",
       "        text-align: right;\n",
       "    }\n",
       "</style>\n",
       "<table border=\"1\" class=\"dataframe\">\n",
       "  <thead>\n",
       "    <tr style=\"text-align: right;\">\n",
       "      <th></th>\n",
       "      <th>0</th>\n",
       "      <th>1</th>\n",
       "    </tr>\n",
       "  </thead>\n",
       "  <tbody>\n",
       "    <tr>\n",
       "      <th>Intercept</th>\n",
       "      <td>49.684996</td>\n",
       "      <td>69.794153</td>\n",
       "    </tr>\n",
       "    <tr>\n",
       "      <th>CWDistance</th>\n",
       "      <td>-0.024091</td>\n",
       "      <td>0.215906</td>\n",
       "    </tr>\n",
       "  </tbody>\n",
       "</table>\n",
       "</div>"
      ],
      "text/plain": [
       "                    0          1\n",
       "Intercept   49.684996  69.794153\n",
       "CWDistance  -0.024091   0.215906"
      ]
     },
     "execution_count": 135,
     "metadata": {},
     "output_type": "execute_result"
    }
   ],
   "source": [
    "# get cont int that is in the summary\n",
    "res.conf_int()"
   ]
  },
  {
   "cell_type": "code",
   "execution_count": 139,
   "metadata": {},
   "outputs": [
    {
     "name": "stdout",
     "output_type": "stream",
     "text": [
      "49.68499567806275 69.79415261381708\n"
     ]
    }
   ],
   "source": [
    "# get conf int (par param) from the df\n",
    "idx_param = 0\n",
    "left,right = res.conf_int().iloc[idx_param]\n",
    "print(left,right)"
   ]
  },
  {
   "cell_type": "code",
   "execution_count": 156,
   "metadata": {},
   "outputs": [
    {
     "data": {
      "text/plain": [
       "'Intercept'"
      ]
     },
     "execution_count": 156,
     "metadata": {},
     "output_type": "execute_result"
    }
   ],
   "source": [
    "# find the names of the params\n",
    "res.params.index[0]"
   ]
  },
  {
   "cell_type": "code",
   "execution_count": 197,
   "metadata": {},
   "outputs": [],
   "source": [
    "# a method to compute conf_int. I guess there are convergence pb\n",
    "ps_ = 0.05\n",
    "try:print(res.conf_int_el(idx_param,sig=0.05, lower_bound=ps_, upper_bound=1-ps_))\n",
    "except ValueError: pass"
   ]
  },
  {
   "cell_type": "code",
   "execution_count": 200,
   "metadata": {},
   "outputs": [],
   "source": [
    "# i automate the shit #send ps => get conf int [ps,1-ps] whith the shape of res.conf_int()using the last method\n",
    "def get_conf_int(ps=0.1):\n",
    "    assert ps<=0.5\n",
    "    df_ = pd.DataFrame()\n",
    "    for idx_param in range(len(res.params)):\n",
    "        print(idx_param)\n",
    "        try:left,right = res.conf_int_el(idx_param,sig=0.05, lower_bound=ps, upper_bound=1-ps)\n",
    "        except ValueError: continue\n",
    "        print(left,right)\n",
    "        new_row = pd.DataFrame({0:[left],1:[right],\"idx\":[res.params.index[idx_param]]}).set_index(\"idx\")\n",
    "        \n",
    "        df_ = df_.append(new_row)\n",
    "\n",
    "    return {\"df\":df_,\"lw\":ps,\"up\":1-ps}"
   ]
  },
  {
   "cell_type": "code",
   "execution_count": 201,
   "metadata": {},
   "outputs": [
    {
     "name": "stdout",
     "output_type": "stream",
     "text": [
      "0\n",
      "51.896946396837706 51.89694639683772\n",
      "1\n"
     ]
    },
    {
     "data": {
      "text/html": [
       "<div>\n",
       "<style scoped>\n",
       "    .dataframe tbody tr th:only-of-type {\n",
       "        vertical-align: middle;\n",
       "    }\n",
       "\n",
       "    .dataframe tbody tr th {\n",
       "        vertical-align: top;\n",
       "    }\n",
       "\n",
       "    .dataframe thead th {\n",
       "        text-align: right;\n",
       "    }\n",
       "</style>\n",
       "<table border=\"1\" class=\"dataframe\">\n",
       "  <thead>\n",
       "    <tr style=\"text-align: right;\">\n",
       "      <th></th>\n",
       "      <th>0</th>\n",
       "      <th>1</th>\n",
       "    </tr>\n",
       "    <tr>\n",
       "      <th>idx</th>\n",
       "      <th></th>\n",
       "      <th></th>\n",
       "    </tr>\n",
       "  </thead>\n",
       "  <tbody>\n",
       "    <tr>\n",
       "      <th>Intercept</th>\n",
       "      <td>51.896946</td>\n",
       "      <td>51.896946</td>\n",
       "    </tr>\n",
       "  </tbody>\n",
       "</table>\n",
       "</div>"
      ],
      "text/plain": [
       "                   0          1\n",
       "idx                            \n",
       "Intercept  51.896946  51.896946"
      ]
     },
     "execution_count": 201,
     "metadata": {},
     "output_type": "execute_result"
    }
   ],
   "source": [
    "# quick test #but the values of left vs right are too close # weird\n",
    "data = get_conf_int(ps=0.025)\n",
    "data[\"df\"]\n"
   ]
  },
  {
   "cell_type": "code",
   "execution_count": null,
   "metadata": {},
   "outputs": [],
   "source": []
  },
  {
   "cell_type": "code",
   "execution_count": 154,
   "metadata": {},
   "outputs": [
    {
     "data": {
      "text/html": [
       "<div>\n",
       "<style scoped>\n",
       "    .dataframe tbody tr th:only-of-type {\n",
       "        vertical-align: middle;\n",
       "    }\n",
       "\n",
       "    .dataframe tbody tr th {\n",
       "        vertical-align: top;\n",
       "    }\n",
       "\n",
       "    .dataframe thead th {\n",
       "        text-align: right;\n",
       "    }\n",
       "</style>\n",
       "<table border=\"1\" class=\"dataframe\">\n",
       "  <thead>\n",
       "    <tr style=\"text-align: right;\">\n",
       "      <th></th>\n",
       "      <th>0</th>\n",
       "      <th>1</th>\n",
       "    </tr>\n",
       "  </thead>\n",
       "  <tbody>\n",
       "    <tr>\n",
       "      <th>Intercept</th>\n",
       "      <td>49.684996</td>\n",
       "      <td>69.794153</td>\n",
       "    </tr>\n",
       "    <tr>\n",
       "      <th>CWDistance</th>\n",
       "      <td>-0.024091</td>\n",
       "      <td>0.215906</td>\n",
       "    </tr>\n",
       "  </tbody>\n",
       "</table>\n",
       "</div>"
      ],
      "text/plain": [
       "                    0          1\n",
       "Intercept   49.684996  69.794153\n",
       "CWDistance  -0.024091   0.215906"
      ]
     },
     "execution_count": 154,
     "metadata": {},
     "output_type": "execute_result"
    }
   ],
   "source": [
    "res.conf_int() #ps=0.025"
   ]
  },
  {
   "cell_type": "code",
   "execution_count": 65,
   "metadata": {},
   "outputs": [],
   "source": [
    "# i use it below\n",
    "class RRR:\n",
    "    def __init__(self, ssr, df_resid):\n",
    "        self.ssr = ssr \n",
    "        self.df_resid = df_resid"
   ]
  },
  {
   "cell_type": "code",
   "execution_count": 70,
   "metadata": {},
   "outputs": [
    {
     "data": {
      "text/plain": [
       "(1.0, nan, -23.0)"
      ]
     },
     "execution_count": 70,
     "metadata": {},
     "output_type": "execute_result"
    }
   ],
   "source": [
    "# i wanted f_valuebut that cone compare last f to a new using(val,ddl) but i do not get info from this\n",
    "res.compare_f_test(RRR(0,0))"
   ]
  },
  {
   "cell_type": "code",
   "execution_count": 72,
   "metadata": {},
   "outputs": [
    {
     "name": "stdout",
     "output_type": "stream",
     "text": [
      "Help on method el_test in module statsmodels.regression.linear_model:\n",
      "\n",
      "el_test(b0_vals, param_nums, return_weights=0, ret_params=0, method='nm', stochastic_exog=1) method of statsmodels.regression.linear_model.OLSResults instance\n",
      "    Test single or joint hypotheses using Empirical Likelihood.\n",
      "    \n",
      "    Parameters\n",
      "    ----------\n",
      "    b0_vals : 1darray\n",
      "        The hypothesized value of the parameter to be tested.\n",
      "    param_nums : 1darray\n",
      "        The parameter number to be tested.\n",
      "    return_weights : bool\n",
      "        If true, returns the weights that optimize the likelihood\n",
      "        ratio at b0_vals. The default is False.\n",
      "    ret_params : bool\n",
      "        If true, returns the parameter vector that maximizes the likelihood\n",
      "        ratio at b0_vals.  Also returns the weights.  The default is False.\n",
      "    method : str\n",
      "        Can either be 'nm' for Nelder-Mead or 'powell' for Powell.  The\n",
      "        optimization method that optimizes over nuisance parameters.\n",
      "        The default is 'nm'.\n",
      "    stochastic_exog : bool\n",
      "        When True, the exogenous variables are assumed to be stochastic.\n",
      "        When the regressors are nonstochastic, moment conditions are\n",
      "        placed on the exogenous variables.  Confidence intervals for\n",
      "        stochastic regressors are at least as large as non-stochastic\n",
      "        regressors. The default is True.\n",
      "    \n",
      "    Returns\n",
      "    -------\n",
      "    tuple\n",
      "        The p-value and -2 times the log-likelihood ratio for the\n",
      "        hypothesized values.\n",
      "    \n",
      "    Examples\n",
      "    --------\n",
      "    >>> import statsmodels.api as sm\n",
      "    >>> data = sm.datasets.stackloss.load()\n",
      "    >>> endog = data.endog\n",
      "    >>> exog = sm.add_constant(data.exog)\n",
      "    >>> model = sm.OLS(endog, exog)\n",
      "    >>> fitted = model.fit()\n",
      "    >>> fitted.params\n",
      "    >>> array([-39.91967442,   0.7156402 ,   1.29528612,  -0.15212252])\n",
      "    >>> fitted.rsquared\n",
      "    >>> 0.91357690446068196\n",
      "    >>> # Test that the slope on the first variable is 0\n",
      "    >>> fitted.el_test([0], [1])\n",
      "    >>> (27.248146353888796, 1.7894660442330235e-07)\n",
      "\n"
     ]
    }
   ],
   "source": [
    "help(res.el_test)"
   ]
  },
  {
   "cell_type": "code",
   "execution_count": 149,
   "metadata": {},
   "outputs": [
    {
     "name": "stdout",
     "output_type": "stream",
     "text": [
      "\n",
      ">>>ec= 0.15\n",
      "\n",
      "     >>>idx_param= 0\n",
      "      True\n",
      "      p_val 0.03139424512993684 2*log-likelihood-ration 0.8593636961273279\n",
      "     you found the value\n",
      "\n",
      "     >>>idx_param= 1\n",
      "      True\n",
      "      p_val 0.03376363624630831 2*log-likelihood-ration 0.854210492299308\n",
      "     you found the value\n",
      "\n",
      ">>>ec= 0.16799999999999998\n",
      "\n",
      "     >>>idx_param= 0\n",
      "      True\n",
      "      p_val 0.039360465973643316 2*log-likelihood-ration 0.8427362461032647\n",
      "     you found the value\n",
      "\n",
      "     >>>idx_param= 1\n",
      "      True\n",
      "      p_val 0.042399263905049014 2*log-likelihood-ration 0.8368605770017545\n",
      "     you found the value\n",
      "\n",
      ">>>ec= 0.186\n",
      "\n",
      "     >>>idx_param= 0\n",
      "      True\n",
      "      p_val 0.04823148052721823 2*log-likelihood-ration 0.8261697097246217\n",
      "     you found the value\n",
      "\n",
      "     >>>idx_param= 1\n",
      "      True\n",
      "      p_val 0.05202749139552471 2*log-likelihood-ration 0.8195721103767428\n",
      "     param n°1 is not significantly =0.1066966633399356 we can assume it is away from it\n",
      "\n",
      ">>>ec= 0.20400000000000001\n",
      "\n",
      "     >>>idx_param= 0\n",
      "      True\n",
      "      p_val 0.05797241581178617 2*log-likelihood-ration 0.8097298042527731\n",
      "     param n°0 is not significantly =60.73110314383505 we can assume it is away from it\n",
      "\n",
      "     >>>idx_param= 1\n",
      "      True\n",
      "      p_val 0.06265113338982714 2*log-likelihood-ration 0.8023537447473528\n",
      "     param n°1 is not significantly =0.10774080495575389 we can assume it is away from it\n",
      "\n",
      ">>>ec= 0.222\n",
      "\n",
      "     >>>idx_param= 0\n",
      "      True\n",
      "      p_val 0.06862158456164735 2*log-likelihood-ration 0.7933544250289862\n",
      "     param n°0 is not significantly =60.8185909965905 we can assume it is away from it\n",
      "\n",
      "     >>>idx_param= 1\n",
      "      True\n",
      "      p_val 0.07427295982632906 2*log-likelihood-ration 0.7852140209937344\n",
      "     param n°1 is not significantly =0.10878494657157217 we can assume it is away from it\n"
     ]
    }
   ],
   "source": [
    "# i was searching a hack to know how the \"is coefficient signicantly = 0\" test works here\n",
    "# i use \"is coefficient signicantly = value_test\" with value_test = true_value + a_bit_float(=fct(std))\n",
    "# for all params\n",
    "# i found that with a sigi_level=0.05, he accept value_test that are in the interval below true_val-0.15*std and refuse those that are upper true_val+0.222*std\n",
    "# but my method in the code for \"is coefficient signicantly = 0\" use a F-test and some assert was not passing so i wanting to know how that one works \n",
    "# i guess i've added something like this: if p_value>10: assert_between_my_method_and_theirs else:we_can_debate_so_no_assert\n",
    "\n",
    "\n",
    "idx_param = 0 #0 for the intercept,\n",
    "ec = 0.1\n",
    "min = 0.15 \n",
    "max = 0.222\n",
    "\n",
    "min = 0 \n",
    "max = 1\n",
    "for ec in np.linspace(0.15,0.222,5):\n",
    "    print(\"\\n>>>ec=\",ec)\n",
    "    for idx_param in range(len(res.params)):\n",
    "        print(\"\\n     >>>idx_param=\",idx_param)\n",
    "        true_val = res.params[idx_param]\n",
    "        std_val = res.bse[idx_param]\n",
    "        left,right = res.conf_int().iloc[idx_param]\n",
    "        value_test = true_val + ec*std_val\n",
    "        print(\"     \",value_test<right and value_test>left)\n",
    "        p_val, llh = res.el_test([value_test], [idx_param])\n",
    "        print(\"     \",\"p_val\",p_val,\"2*log-likelihood-ration\",llh)\n",
    "        if p_val<=0.05:\n",
    "            print(\"     you found the value\")\n",
    "        else:\n",
    "            print(f\"     param n°{idx_param} is not significantly ={value_test} we can assume it is away from it\")"
   ]
  },
  {
   "cell_type": "code",
   "execution_count": 53,
   "metadata": {},
   "outputs": [
    {
     "data": {
      "text/html": [
       "<div>\n",
       "<style scoped>\n",
       "    .dataframe tbody tr th:only-of-type {\n",
       "        vertical-align: middle;\n",
       "    }\n",
       "\n",
       "    .dataframe tbody tr th {\n",
       "        vertical-align: top;\n",
       "    }\n",
       "\n",
       "    .dataframe thead th {\n",
       "        text-align: right;\n",
       "    }\n",
       "</style>\n",
       "<table border=\"1\" class=\"dataframe\">\n",
       "  <thead>\n",
       "    <tr style=\"text-align: right;\">\n",
       "      <th></th>\n",
       "      <th>ID</th>\n",
       "      <th>Age</th>\n",
       "      <th>Gender</th>\n",
       "      <th>GenderGroup</th>\n",
       "      <th>Glasses</th>\n",
       "      <th>GlassesGroup</th>\n",
       "      <th>Height</th>\n",
       "      <th>Wingspan</th>\n",
       "      <th>CWDistance</th>\n",
       "      <th>Complete</th>\n",
       "      <th>CompleteGroup</th>\n",
       "      <th>Score</th>\n",
       "    </tr>\n",
       "  </thead>\n",
       "  <tbody>\n",
       "    <tr>\n",
       "      <th>0</th>\n",
       "      <td>1</td>\n",
       "      <td>56</td>\n",
       "      <td>F</td>\n",
       "      <td>1</td>\n",
       "      <td>Y</td>\n",
       "      <td>1</td>\n",
       "      <td>62.0</td>\n",
       "      <td>61.0</td>\n",
       "      <td>79</td>\n",
       "      <td>Y</td>\n",
       "      <td>1</td>\n",
       "      <td>7</td>\n",
       "    </tr>\n",
       "    <tr>\n",
       "      <th>1</th>\n",
       "      <td>2</td>\n",
       "      <td>26</td>\n",
       "      <td>F</td>\n",
       "      <td>1</td>\n",
       "      <td>Y</td>\n",
       "      <td>1</td>\n",
       "      <td>62.0</td>\n",
       "      <td>60.0</td>\n",
       "      <td>70</td>\n",
       "      <td>Y</td>\n",
       "      <td>1</td>\n",
       "      <td>8</td>\n",
       "    </tr>\n",
       "    <tr>\n",
       "      <th>2</th>\n",
       "      <td>3</td>\n",
       "      <td>33</td>\n",
       "      <td>F</td>\n",
       "      <td>1</td>\n",
       "      <td>Y</td>\n",
       "      <td>1</td>\n",
       "      <td>66.0</td>\n",
       "      <td>64.0</td>\n",
       "      <td>85</td>\n",
       "      <td>Y</td>\n",
       "      <td>1</td>\n",
       "      <td>7</td>\n",
       "    </tr>\n",
       "    <tr>\n",
       "      <th>3</th>\n",
       "      <td>4</td>\n",
       "      <td>39</td>\n",
       "      <td>F</td>\n",
       "      <td>1</td>\n",
       "      <td>N</td>\n",
       "      <td>0</td>\n",
       "      <td>64.0</td>\n",
       "      <td>63.0</td>\n",
       "      <td>87</td>\n",
       "      <td>Y</td>\n",
       "      <td>1</td>\n",
       "      <td>10</td>\n",
       "    </tr>\n",
       "    <tr>\n",
       "      <th>4</th>\n",
       "      <td>5</td>\n",
       "      <td>27</td>\n",
       "      <td>M</td>\n",
       "      <td>2</td>\n",
       "      <td>N</td>\n",
       "      <td>0</td>\n",
       "      <td>73.0</td>\n",
       "      <td>75.0</td>\n",
       "      <td>72</td>\n",
       "      <td>N</td>\n",
       "      <td>0</td>\n",
       "      <td>4</td>\n",
       "    </tr>\n",
       "  </tbody>\n",
       "</table>\n",
       "</div>"
      ],
      "text/plain": [
       "   ID  Age Gender  GenderGroup Glasses  GlassesGroup  Height  Wingspan  \\\n",
       "0   1   56      F            1       Y             1    62.0      61.0   \n",
       "1   2   26      F            1       Y             1    62.0      60.0   \n",
       "2   3   33      F            1       Y             1    66.0      64.0   \n",
       "3   4   39      F            1       N             0    64.0      63.0   \n",
       "4   5   27      M            2       N             0    73.0      75.0   \n",
       "\n",
       "   CWDistance Complete  CompleteGroup  Score  \n",
       "0          79        Y              1      7  \n",
       "1          70        Y              1      8  \n",
       "2          85        Y              1      7  \n",
       "3          87        Y              1     10  \n",
       "4          72        N              0      4  "
      ]
     },
     "execution_count": 53,
     "metadata": {},
     "output_type": "execute_result"
    }
   ],
   "source": [
    "df.head()"
   ]
  },
  {
   "cell_type": "code",
   "execution_count": 28,
   "metadata": {},
   "outputs": [
    {
     "data": {
      "text/plain": [
       "[]"
      ]
     },
     "execution_count": 28,
     "metadata": {},
     "output_type": "execute_result"
    }
   ],
   "source": [
    "for elt in \n",
    "[ elt for elt in dir(res.get_influence) if not elt.startswith('__')]"
   ]
  },
  {
   "cell_type": "markdown",
   "metadata": {},
   "source": [
    "t = 1.653 => where are 1.6 std away from 0 => significantly away from 0 \n",
    "As a matter of fact, p_value_two_tail = P(|student|>|t|) ~= 0.1 => we are good \n",
    "If we define p_value = P(student>|t|) ~= 0.05 => we are good "
   ]
  },
  {
   "cell_type": "markdown",
   "metadata": {},
   "source": [
    "0.75 => value + nb_std*std = coeff + quantile(student, 75%) * std = 1.1076 + 0.67 * 0.670\n",
    "0.25 => value - nb_std*std = coeff + quantile(student, 25%) * std = 1.1076 - 0.67 * 0.670"
   ]
  },
  {
   "cell_type": "code",
   "execution_count": null,
   "metadata": {},
   "outputs": [],
   "source": []
  },
  {
   "cell_type": "markdown",
   "metadata": {},
   "source": [
    "# Multiple regression"
   ]
  },
  {
   "cell_type": "code",
   "execution_count": 5,
   "metadata": {},
   "outputs": [],
   "source": [
    "sys.path.append(os.pardir)\n",
    "from my_stats.mdl_esti_md.model_estimator import (\n",
    "    ME_multiple_regression\n",
    ") "
   ]
  },
  {
   "cell_type": "code",
   "execution_count": 8,
   "metadata": {},
   "outputs": [],
   "source": [
    "df = pd.read_csv(\"../data/Cartwheeldata.csv\")\n",
    "df = df.dropna()"
   ]
  },
  {
   "cell_type": "code",
   "execution_count": 9,
   "metadata": {},
   "outputs": [],
   "source": [
    "X = df[[\"Height\",\"CWDistance\"]]\n",
    "y = df.Wingspan "
   ]
  },
  {
   "cell_type": "code",
   "execution_count": 10,
   "metadata": {},
   "outputs": [
    {
     "name": "stdout",
     "output_type": "stream",
     "text": [
      "coeff: [-1.36983555e+01  1.18854646e+00 -5.41722246e-03]\n",
      "-->coeff_estim_std: [5.13875801 0.08013512 0.02358087]\n",
      "-->residu_std: 1.6446086151008477\n",
      "-->tests:\n",
      "  -> residuals_normality:HypothesisValidationData(testPassed=True, obj=None)\n",
      "  -> residu_mean_null:HypothesisValidationData(testPassed=True, obj=None)\n",
      "  -> coeff_non_zero:HypothesisValidationData(testPassed=False, obj=[True, True, False])\n",
      "  -> significance:{'R_carre': 0.9103476232291012, 'R_carre_adj': 0.9021974071590195, 'MSE': 2.950622723851558, 'DFE': 22, 'MSR': 329.57315003761795, 'DFR': 2, 'SSE': 64.91369992473427, 'SSR': 659.1463000752359}\n",
      "  -> fisher_test:{'test_passed': True, 'F_stat': 111.69613362409608, 'p_value': 3.007372129104624e-12}\n",
      "  -> metrics:{'log-likelihood': -47.411024129069055, 'AIC': 100.82204825813811, 'BIC': 104.47867573274272, 'MSE': 2.950622723851558, 'MAE': 1.3091177928928892, 'RMSE': 1.7177376760878122, 'skew': -0.37706925725074375, 'kurtosis': 0.135729651188488}\n"
     ]
    }
   ],
   "source": [
    "coeffs,list_coeffs_std, residu_std,Testresults = ME_multiple_regression(X,y)\n",
    "print(f\"coeff: {coeffs}\\n-->coeff_estim_std: {list_coeffs_std}\\n-->residu_std: {residu_std}\\n-->tests:\")\n",
    "for elt,val in Testresults.items():\n",
    "    print(f\"  -> {elt}:{val}\")"
   ]
  },
  {
   "cell_type": "code",
   "execution_count": 13,
   "metadata": {},
   "outputs": [
    {
     "name": "stdout",
     "output_type": "stream",
     "text": [
      "                            OLS Regression Results                            \n",
      "==============================================================================\n",
      "Dep. Variable:               Wingspan   R-squared:                       0.910\n",
      "Model:                            OLS   Adj. R-squared:                  0.902\n",
      "Method:                 Least Squares   F-statistic:                     111.7\n",
      "Date:                Sun, 01 Jan 2023   Prob (F-statistic):           3.01e-12\n",
      "Time:                        01:26:43   Log-Likelihood:                -47.401\n",
      "No. Observations:                  25   AIC:                             100.8\n",
      "Df Residuals:                      22   BIC:                             104.5\n",
      "Df Model:                           2                                         \n",
      "Covariance Type:            nonrobust                                         \n",
      "==============================================================================\n",
      "                 coef    std err          t      P>|t|      [0.025      0.975]\n",
      "------------------------------------------------------------------------------\n",
      "Intercept    -13.6984      5.367     -2.552      0.018     -24.829      -2.567\n",
      "Height         1.1885      0.084     14.200      0.000       1.015       1.362\n",
      "CWDistance    -0.0054      0.025     -0.220      0.828      -0.056       0.046\n",
      "==============================================================================\n",
      "Omnibus:                        0.880   Durbin-Watson:                   2.257\n",
      "Prob(Omnibus):                  0.644   Jarque-Bera (JB):                0.537\n",
      "Skew:                          -0.354   Prob(JB):                        0.764\n",
      "Kurtosis:                       2.879   Cond. No.                     1.68e+03\n",
      "==============================================================================\n",
      "\n",
      "Notes:\n",
      "[1] Standard Errors assume that the covariance matrix of the errors is correctly specified.\n",
      "[2] The condition number is large, 1.68e+03. This might indicate that there are\n",
      "strong multicollinearity or other numerical problems.\n"
     ]
    }
   ],
   "source": [
    "import statsmodels.api as sm\n",
    "model = sm.OLS.from_formula(\"Wingspan ~ Height+CWDistance\", data=df) #y=CWDistance,x=[Height,CWDistance]\n",
    "res = model.fit()\n",
    "print(res.summary())"
   ]
  },
  {
   "cell_type": "markdown",
   "metadata": {},
   "source": [
    "data computed are verified"
   ]
  }
 ],
 "metadata": {
  "kernelspec": {
   "display_name": "Python 3",
   "language": "python",
   "name": "python3"
  },
  "language_info": {
   "codemirror_mode": {
    "name": "ipython",
    "version": 3
   },
   "file_extension": ".py",
   "mimetype": "text/x-python",
   "name": "python",
   "nbconvert_exporter": "python",
   "pygments_lexer": "ipython3",
   "version": "3.8.10"
  },
  "orig_nbformat": 4,
  "vscode": {
   "interpreter": {
    "hash": "916dbcbb3f70747c44a77c7bcd40155683ae19c65e1c03b4aa3499c5328201f1"
   }
  }
 },
 "nbformat": 4,
 "nbformat_minor": 2
}
